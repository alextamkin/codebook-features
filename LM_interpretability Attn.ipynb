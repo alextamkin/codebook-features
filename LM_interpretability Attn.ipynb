{
 "cells": [
  {
   "cell_type": "code",
   "execution_count": null,
   "metadata": {},
   "outputs": [],
   "source": [
    "! pip uninstall -y transformer_lens\n",
    "! pip install git+https://github.com/taufeeque9/TransformerLens/\n",
    "! pip install git+https://github.com/minyoungg/vqtorch/\n",
    "! pip install termcolor\n",
    "! pip install -U accelerate\n",
    "! pip install -U kaleido"
   ]
  },
  {
   "cell_type": "code",
   "execution_count": 28,
   "metadata": {},
   "outputs": [
    {
     "data": {
      "text/plain": [
       "<torch.autograd.grad_mode.set_grad_enabled at 0x7f368c166e30>"
      ]
     },
     "execution_count": 28,
     "metadata": {},
     "output_type": "execute_result"
    }
   ],
   "source": [
    "from termcolor import colored\n",
    "import plotly.express as px\n",
    "import transformers\n",
    "import codebook_features\n",
    "import torch\n",
    "import evaluate\n",
    "import numpy as np\n",
    "import copy\n",
    "import wandb\n",
    "import json\n",
    "import transformer_lens.utils as utils\n",
    "from collections import namedtuple\n",
    "from functools import partial\n",
    "from torch.nn import functional as F\n",
    "import itertools\n",
    "from tqdm import tqdm\n",
    "import math\n",
    "from datetime import datetime\n",
    "import pickle\n",
    "import glob\n",
    "\n",
    "\n",
    "from transformers import (\n",
    "    GPTNeoXConfig,\n",
    "    GPTNeoXForCausalLM,\n",
    "    GPT2TokenizerFast,\n",
    "    pipeline,\n",
    "    set_seed,\n",
    ")\n",
    "from torch.utils.data import IterableDataset\n",
    "from codebook_features import models, run_clm, train_toy_model, trainer as cb_trainer   \n",
    "from codebook_features.utils import *\n",
    "from codebook_features.toy_utils import *\n",
    "import os\n",
    "\n",
    "torch.set_grad_enabled(False)"
   ]
  },
  {
   "cell_type": "code",
   "execution_count": 2,
   "metadata": {},
   "outputs": [
    {
     "name": "stdout",
     "output_type": "stream",
     "text": [
      "Time: 36.92286515235901\n",
      "Time: 5.9604644775390625e-06 5.7697296142578125e-05 37.652931213378906\n",
      "Loaded original cb model.\n"
     ]
    },
    {
     "name": "stderr",
     "output_type": "stream",
     "text": [
      "Using pad_token, but it is not set yet.\n"
     ]
    },
    {
     "name": "stdout",
     "output_type": "stream",
     "text": [
      "Loaded pretrained model EleutherAI/pythia-410m-deduped into HookedTransformer\n",
      "Time: 8.106231689453125e-06 5.8650970458984375e-05 25.994243144989014\n",
      "Time: 77.78085708618164 0.08902430534362793 0.11349678039550781 25.995729207992554 0.3244805335998535\n"
     ]
    }
   ],
   "source": [
    "model_name_or_path = \"EleutherAI/pythia-410m-deduped\"\n",
    "pretrained_path = \"/data/outputs/2023-04-24/14-05-06/output_main/\"\n",
    "device = \"cuda\"\n",
    "orig_cb_model = models.wrap_codebook(model_or_path=model_name_or_path, pretrained_path=pretrained_path)\n",
    "orig_cb_model = orig_cb_model.to(device).eval()\n",
    "orig_cb_model.disable_logging()\n",
    "print(\"Loaded original cb model.\")\n",
    "hooked_kwargs = dict(center_unembed=False,fold_value_biases=False,center_writing_weights=True,fold_ln=True,refactor_factored_attn_matrices=False,device=device)\n",
    "cb_model = models.convert_to_hooked_model(model_name_or_path, orig_cb_model, hooked_kwargs=hooked_kwargs)\n",
    "# # cb_model = cb_model.model\n",
    "cb_model.disable_logging()\n",
    "cb_model = cb_model.to(device).eval()\n",
    "model = orig_cb_model\n",
    "tokenizer = cb_model.tokenizer"
   ]
  },
  {
   "cell_type": "code",
   "execution_count": 3,
   "metadata": {},
   "outputs": [
    {
     "name": "stdout",
     "output_type": "stream",
     "text": [
      "07/04/2023 19:06:26 - WARNING - codebook_features.run_clm - Process rank: 0, device: cuda:0, n_gpu: 1distributed training: True, 16-bits training: False\n",
      "07/04/2023 19:06:27 - WARNING - datasets.builder - Found cached dataset wikitext (/data/.cache/huggingface/wikitext/wikitext-103-v1/1.0.0/a241db52902eaf2c6aa732210bead40c090019a499ceb13bcbfa3f8ab646a126)\n"
     ]
    },
    {
     "data": {
      "application/vnd.jupyter.widget-view+json": {
       "model_id": "c4eaac54acdf46a6840b64d62607e38a",
       "version_major": 2,
       "version_minor": 0
      },
      "text/plain": [
       "  0%|          | 0/3 [00:00<?, ?it/s]"
      ]
     },
     "metadata": {},
     "output_type": "display_data"
    },
    {
     "name": "stdout",
     "output_type": "stream",
     "text": [
      "07/04/2023 19:09:05 - WARNING - datasets.arrow_dataset - Loading cached processed dataset at /data/.cache/huggingface/wikitext/wikitext-103-v1/1.0.0/a241db52902eaf2c6aa732210bead40c090019a499ceb13bcbfa3f8ab646a126/cache-f8d0d6b5b5fe7dc9.arrow\n",
      "07/04/2023 19:12:14 - WARNING - datasets.arrow_dataset - Loading cached processed dataset at /data/.cache/huggingface/wikitext/wikitext-103-v1/1.0.0/a241db52902eaf2c6aa732210bead40c090019a499ceb13bcbfa3f8ab646a126/cache-a53c183da4ec97cb.arrow\n",
      "07/04/2023 19:12:15 - WARNING - datasets.arrow_dataset - Loading cached processed dataset at /data/.cache/huggingface/wikitext/wikitext-103-v1/1.0.0/a241db52902eaf2c6aa732210bead40c090019a499ceb13bcbfa3f8ab646a126/cache-8183c2e143fa69fe.arrow\n",
      "07/04/2023 19:12:15 - WARNING - codebook_features.run_clm - The tokenizer picked seems to have a very large `model_max_length` (1000000000000000019884624838656). Picking 1024 instead. You can change that default value by passing --block_size xxx.\n",
      "07/04/2023 19:12:16 - WARNING - datasets.arrow_dataset - Loading cached processed dataset at /data/.cache/huggingface/wikitext/wikitext-103-v1/1.0.0/a241db52902eaf2c6aa732210bead40c090019a499ceb13bcbfa3f8ab646a126/cache-ff3f890a4a084ec5.arrow\n",
      "07/04/2023 19:19:19 - WARNING - datasets.arrow_dataset - Loading cached processed dataset at /data/.cache/huggingface/wikitext/wikitext-103-v1/1.0.0/a241db52902eaf2c6aa732210bead40c090019a499ceb13bcbfa3f8ab646a126/cache-2312159033613d5a.arrow\n",
      "07/04/2023 19:19:20 - WARNING - datasets.arrow_dataset - Loading cached processed dataset at /data/.cache/huggingface/wikitext/wikitext-103-v1/1.0.0/a241db52902eaf2c6aa732210bead40c090019a499ceb13bcbfa3f8ab646a126/cache-b90f198df0dd925d.arrow\n",
      "07/04/2023 19:19:20 - WARNING - datasets.arrow_dataset - Loading cached shuffled indices for dataset at /data/.cache/huggingface/wikitext/wikitext-103-v1/1.0.0/a241db52902eaf2c6aa732210bead40c090019a499ceb13bcbfa3f8ab646a126/cache-c6795e4881af6935.arrow\n"
     ]
    }
   ],
   "source": [
    "report_to = \"none\"\n",
    "# report_to = \"all\"\n",
    "training_args = run_clm.TrainingArguments(\n",
    "    #     no_cuda=True,\n",
    "    output_dir=\"/shared/output_attn_pythia410/\",\n",
    "    do_eval=True,\n",
    "    per_device_train_batch_size=16,\n",
    "    per_device_eval_batch_size=32,\n",
    ")\n",
    "\n",
    "model_args = run_clm.ModelArguments(model_name_or_path=pretrained_path, cache_dir=\"/data/.cache/huggingface/\")\n",
    "data_args = run_clm.DataTrainingArguments(\n",
    "    dataset_name=\"wikitext\", dataset_config_name=\"wikitext-103-v1\", streaming=False,\n",
    ")\n",
    "\n",
    "trainer, lm_datasets, last_checkpoint = run_clm.get_trainer_and_dataset(\n",
    "    model_args,\n",
    "    data_args,\n",
    "    training_args,\n",
    "    model,\n",
    "    optimizers=(None, None),\n",
    ")"
   ]
  },
  {
   "cell_type": "code",
   "execution_count": 4,
   "metadata": {},
   "outputs": [],
   "source": [
    "seed = 42\n",
    "rng = np.random.default_rng(seed)\n",
    "max_samples = 2000\n",
    "dataset = lm_datasets[\"train\"].select(rng.choice(len(lm_datasets[\"train\"]), max_samples, replace=False))\n",
    "tokens = dataset[\"input_ids\"]"
   ]
  },
  {
   "cell_type": "code",
   "execution_count": 7,
   "metadata": {},
   "outputs": [
    {
     "name": "stdout",
     "output_type": "stream",
     "text": [
      "Loading activations from /shared/cb_eval_acts/pythia410_preproj_attn_2023-07-04_15-31-29\n",
      "{'eval_loss': 2.293712854385376, 'eval_accuracy': 0.5102272727272728, 'eval_runtime': 500.3652, 'eval_samples_per_second': 3.997, 'eval_steps_per_second': 0.126, 'eval_multicode_k': 1, 'eval_dead_code_fraction/layer0': 1.0, 'eval_MSE/layer0': 0.0, 'eval_input_norm/layer0': 0.0, 'eval_output_norm/layer0': 0.0, 'eval_dead_code_fraction/layer1': 1.0, 'eval_MSE/layer1': 0.0, 'eval_input_norm/layer1': 0.0, 'eval_output_norm/layer1': 0.0, 'eval_dead_code_fraction/layer2': 1.0, 'eval_MSE/layer2': 0.0, 'eval_input_norm/layer2': 0.0, 'eval_output_norm/layer2': 0.0, 'eval_dead_code_fraction/layer3': 1.0, 'eval_MSE/layer3': 0.0, 'eval_input_norm/layer3': 0.0, 'eval_output_norm/layer3': 0.0, 'eval_dead_code_fraction/layer4': 1.0, 'eval_MSE/layer4': 0.0, 'eval_input_norm/layer4': 0.0, 'eval_output_norm/layer4': 0.0, 'eval_dead_code_fraction/layer5': 1.0, 'eval_MSE/layer5': 0.0, 'eval_input_norm/layer5': 0.0, 'eval_output_norm/layer5': 0.0, 'eval_dead_code_fraction/layer6': 1.0, 'eval_MSE/layer6': 0.0, 'eval_input_norm/layer6': 0.0, 'eval_output_norm/layer6': 0.0, 'eval_dead_code_fraction/layer7': 1.0, 'eval_MSE/layer7': 0.0, 'eval_input_norm/layer7': 0.0, 'eval_output_norm/layer7': 0.0, 'eval_dead_code_fraction/layer8': 1.0, 'eval_MSE/layer8': 0.0, 'eval_input_norm/layer8': 0.0, 'eval_output_norm/layer8': 0.0, 'eval_dead_code_fraction/layer9': 1.0, 'eval_MSE/layer9': 0.0, 'eval_input_norm/layer9': 0.0, 'eval_output_norm/layer9': 0.0, 'eval_dead_code_fraction/layer10': 1.0, 'eval_MSE/layer10': 0.0, 'eval_input_norm/layer10': 0.0, 'eval_output_norm/layer10': 0.0, 'eval_dead_code_fraction/layer11': 1.0, 'eval_MSE/layer11': 0.0, 'eval_input_norm/layer11': 0.0, 'eval_output_norm/layer11': 0.0, 'eval_dead_code_fraction/layer12': 1.0, 'eval_MSE/layer12': 0.0, 'eval_input_norm/layer12': 0.0, 'eval_output_norm/layer12': 0.0, 'eval_dead_code_fraction/layer13': 1.0, 'eval_MSE/layer13': 0.0, 'eval_input_norm/layer13': 0.0, 'eval_output_norm/layer13': 0.0, 'eval_dead_code_fraction/layer14': 1.0, 'eval_MSE/layer14': 0.0, 'eval_input_norm/layer14': 0.0, 'eval_output_norm/layer14': 0.0, 'eval_dead_code_fraction/layer15': 1.0, 'eval_MSE/layer15': 0.0, 'eval_input_norm/layer15': 0.0, 'eval_output_norm/layer15': 0.0, 'eval_dead_code_fraction/layer16': 1.0, 'eval_MSE/layer16': 0.0, 'eval_input_norm/layer16': 0.0, 'eval_output_norm/layer16': 0.0, 'eval_dead_code_fraction/layer17': 1.0, 'eval_MSE/layer17': 0.0, 'eval_input_norm/layer17': 0.0, 'eval_output_norm/layer17': 0.0, 'eval_dead_code_fraction/layer18': 1.0, 'eval_MSE/layer18': 0.0, 'eval_input_norm/layer18': 0.0, 'eval_output_norm/layer18': 0.0, 'eval_dead_code_fraction/layer19': 1.0, 'eval_MSE/layer19': 0.0, 'eval_input_norm/layer19': 0.0, 'eval_output_norm/layer19': 0.0, 'eval_dead_code_fraction/layer20': 1.0, 'eval_MSE/layer20': 0.0, 'eval_input_norm/layer20': 0.0, 'eval_output_norm/layer20': 0.0, 'eval_dead_code_fraction/layer21': 1.0, 'eval_MSE/layer21': 0.0, 'eval_input_norm/layer21': 0.0, 'eval_output_norm/layer21': 0.0, 'eval_dead_code_fraction/layer22': 1.0, 'eval_MSE/layer22': 0.0, 'eval_input_norm/layer22': 0.0, 'eval_output_norm/layer22': 0.0, 'eval_dead_code_fraction/layer23': 1.0, 'eval_MSE/layer23': 0.0, 'eval_input_norm/layer23': 0.0, 'eval_output_norm/layer23': 0.0}\n"
     ]
    }
   ],
   "source": [
    "from datetime import datetime\n",
    "import pickle\n",
    "import glob\n",
    "\n",
    "trainer.args.report_on = \"none\"\n",
    "cb_acts = {}\n",
    "ft_tkns = {}\n",
    "\n",
    "def store_cb_activations(key, codebook_ids, codebook_acts=cb_acts):\n",
    "    assert len(codebook_ids.shape) == 3  # (bs, seq_len, k_codebook)\n",
    "    if key not in codebook_acts:\n",
    "        codebook_acts[key] = []\n",
    "    codebook_acts[key].append(codebook_ids)\n",
    "\n",
    "\n",
    "output_dir = \"/shared/cb_eval_acts/pythia410_preproj_attn*\"\n",
    "dirs = glob.glob(output_dir)\n",
    "if len(dirs) > 0:\n",
    "    print(\"Loading activations from\", dirs[0])\n",
    "    with open(f\"{dirs[0]}/cb_acts.pkl\", \"rb\") as f:\n",
    "        cb_acts = pickle.load(f)\n",
    "    tokens = np.load(f\"{dirs[0]}/tokens.npy\")\n",
    "    metrics = np.load(f\"{dirs[0]}/metrics.npy\", allow_pickle=True)\n",
    "else:\n",
    "    orig_cb_model.set_hook_fn(store_cb_activations)\n",
    "    metrics = trainer.evaluate(dataset)\n",
    "    for k, v in cb_acts.items():\n",
    "        cb_acts[k] = np.concatenate(v, axis=0)\n",
    "    output_dir = datetime.now().strftime(\"%Y-%m-%d_%H-%M-%S\")\n",
    "    output_dir = \"/shared/cb_eval_acts/pythia410_preproj_attn_\" + output_dir\n",
    "    os.makedirs(output_dir, exist_ok=True)\n",
    "    np.save(f\"{output_dir}/tokens.npy\", tokens)\n",
    "    np.save(f\"{output_dir}/metrics.npy\", metrics)\n",
    "    with open(f\"{output_dir}/cb_acts.pkl\", \"wb\") as f:\n",
    "        pickle.dump(codebook_acts, f)\n",
    "\n",
    "print(metrics)\n",
    "num_codes = 10_000\n",
    "cb_at = \"attn_preproj\""
   ]
  },
  {
   "cell_type": "code",
   "execution_count": null,
   "metadata": {},
   "outputs": [],
   "source": []
  },
  {
   "cell_type": "code",
   "execution_count": null,
   "metadata": {},
   "outputs": [],
   "source": [
    "cb_at = \"attn_preproj\"\n",
    "ccb = \"_ccb0\"\n",
    "# ft_tkns = features_to_tokens(f\"layer0_{cb_at}{ccb}\", cb_acts, num_codes=num_codes)\n"
   ]
  },
  {
   "cell_type": "code",
   "execution_count": null,
   "metadata": {},
   "outputs": [],
   "source": [
    "def tokens_common_across_codes(ft_tkns, codes):\n",
    "    all_ft_tkns = [ft_tkns[c] for c in codes]\n",
    "    return set.intersection(*[set(ft_tkns[c]) for c in codes])\n"
   ]
  },
  {
   "cell_type": "code",
   "execution_count": null,
   "metadata": {},
   "outputs": [],
   "source": [
    "ccb = \"_ccb13\"\n",
    "ft_tkns17_13 = features_to_tokens(f\"layer17_{cb_at}{ccb}\", cb_acts, num_codes=num_codes)\n"
   ]
  },
  {
   "cell_type": "code",
   "execution_count": null,
   "metadata": {},
   "outputs": [],
   "source": [
    "def print_dataset_example(dataset, example_idx=0):\n",
    "    print(tokenizer.decode(dataset[example_idx][\"input_ids\"]))"
   ]
  },
  {
   "cell_type": "code",
   "execution_count": null,
   "metadata": {},
   "outputs": [],
   "source": [
    "# print_ft_tkns(ft_tkns17_13,n=5,indices=cache_a[get_cb_layer_name(\"attn\", 17, 13)][0, -1],tokenizer=tokenizer,tokens=tokens,max_examples=100)\n",
    "print_ft_tkns(ft_tkns17_13,n=5,start=0,stop=100,tokenizer=tokenizer,tokens=tokens,max_examples=20)"
   ]
  },
  {
   "cell_type": "code",
   "execution_count": 71,
   "metadata": {},
   "outputs": [
    {
     "data": {
      "application/vnd.jupyter.widget-view+json": {
       "model_id": "1cbbe6dc9c0e458fad2c7359f4f70445",
       "version_major": 2,
       "version_minor": 0
      },
      "text/plain": [
       "  0%|          | 0/50 [00:00<?, ?it/s]"
      ]
     },
     "metadata": {},
     "output_type": "display_data"
    },
    {
     "name": "stdout",
     "output_type": "stream",
     "text": [
      "The movie, was originally submitted to the Berlinerff office on April 19, 2012 before director Alexander Wittgenstein. On April 26, 2012, the film was screened at the Natural History Museum in Philadelphia, which was the first time an American science fiction film has\n"
     ]
    }
   ],
   "source": [
    "inp = \"The movie\"\n",
    "gen = cb_model.generate(inp, max_new_tokens=50, do_sample=True, temperature=0.7)\n",
    "print(gen)\n",
    "_, cache = cb_model.run_with_cache(gen)"
   ]
  },
  {
   "cell_type": "code",
   "execution_count": null,
   "metadata": {},
   "outputs": [],
   "source": [
    "skips = 0\n",
    "for layer in range(cb_model.cfg.n_layers):\n",
    "    for head in range(cb_model.cfg.n_heads):\n",
    "        codes, occ_freq = common_codes_in_cache(cache[get_cb_layer_name(\"attn\", layer, head)], threshold=0.8)\n",
    "        if len(codes) == 0:\n",
    "            continue\n",
    "        \n",
    "        if (layer, head) not in ft_tkns:\n",
    "            ft_tkns[(layer, head)] = features_to_tokens(f\"layer{layer}_{cb_at}_ccb{head}\", cb_acts, num_codes=num_codes)\n",
    "        freq, acts = print_ft_tkns(ft_tkns[(layer, head)],n=3,indices=codes,tokenizer=tokenizer,tokens=tokens,max_examples=10)\n",
    "        for i in range(len(freq)):\n",
    "            if freq[i] > 30:\n",
    "                output = f\"Skipping Code: {codes[i].item()}, Layer: {layer}, Head:, {head}, Occ Freq: {occ_freq[i].item():.1f}, Train Act Freq: {freq[i]}\"\n",
    "                output = colored(output, \"blue\")\n",
    "                print(output)\n",
    "                skips += 1\n",
    "                continue\n",
    "            output = f\"Code: {codes[i].item()}, Layer: {layer}, Head:, {head}, Occ Freq: {occ_freq[i].item():.1f}, Train Act Freq: {freq[i]}\"\n",
    "            print(output)\n",
    "            print(acts[i])\n",
    "\n",
    "print(f\"Skipped {skips} codes\")"
   ]
  },
  {
   "cell_type": "code",
   "execution_count": null,
   "metadata": {},
   "outputs": [],
   "source": [
    "Layer: 3 Head: 7 Freq: 0.95 code: 841\n",
    "Layer: 7 Head: 11 Freq: 0.98 code: 5806 (sus)\n",
    "Layer: 9 Head: 14 Freq: 0.84 code: 199\n",
    "Layer: 18 Head: 2 Freq: 0.86 code: 3545\n",
    "Layer: 18 Head: 10 Freq: 0.95 code: 1666\n",
    "Layer: 20 Head: 1 Freq: 0.82 code: 5263\n",
    "\n",
    "# The football\n",
    "Layer: 3 Head: 7 Freq: tensor([0.8654, 0.8077], device='cuda:0') code: tensor([8967, 8643], device='cuda:0')\n",
    "code - 8967, mapped to 1.6% tokens (sports)\n",
    "code - 8643, mapped to 3.3% tokens\n",
    "Layer: 16 Head: 7 Freq: tensor([0.8077], device='cuda:0') code: tensor([6275], device='cuda:0')\n",
    "code - 6275, mapped to 0.7 tokens\n",
    "Layer: 16 Head: 15 Freq: tensor([0.8462], device='cuda:0') code: tensor([7679], device='cuda:0')\n",
    "code - 7679, mapped to 0.7 tokens\n",
    "Layer: 17 Head: 13 Freq: tensor([0.8269, 0.8077], device='cuda:0') code: tensor([2323, 8800], device='cuda:0')\n",
    "code - 2323, mapped to 1.3 tokens\n",
    "code - 8800, mapped to 1.0 tokens\n",
    "Layer: 21 Head: 5 Freq: tensor([0.8846], device='cuda:0') code: tensor([6123], device='cuda:0')\n",
    "code - 6123, mapped to 0.0 tokens\n",
    "\n",
    "Code: 1111, Layer: 12, Head:, 0, Occ Freq: 0.8703703880310059, Train Act Freq: 0.86767578125\n"
   ]
  },
  {
   "cell_type": "code",
   "execution_count": 19,
   "metadata": {},
   "outputs": [],
   "source": [
    "def patch_in_codes(run_cb_ids, hook, pos, code, code_pos=None):\n",
    "    \"\"\"Patch in the `code` at `run_cb_ids`.\"\"\"\n",
    "    pos = slice(None) if pos is None else pos\n",
    "    code_pos = slice(None) if code_pos is None else code_pos\n",
    "\n",
    "    if code_pos == \"append\":\n",
    "        assert pos == slice(None)\n",
    "        run_cb_ids = F.pad(run_cb_ids, (0, 1), mode=\"constant\", value=code)\n",
    "    if isinstance(pos, typing.Iterable) or isinstance(pos, typing.Iterable):\n",
    "        for p in pos:\n",
    "            run_cb_ids[:, p, code_pos] = code\n",
    "    else:\n",
    "        run_cb_ids[:, pos, code_pos] = code\n",
    "    return run_cb_ids\n"
   ]
  },
  {
   "cell_type": "code",
   "execution_count": 31,
   "metadata": {},
   "outputs": [],
   "source": [
    "CodeInfoTuple = namedtuple(\n",
    "    \"CodeInfoTuple\", [\"code\", \"cb_at\", \"layer\", \"head\", \"pos\", \"code_pos\"]\n",
    ")\n",
    "\n",
    "pos = None\n",
    "# code_pos = \"append\"\n",
    "code_pos = -1\n",
    "list_of_arg_tuples = [\n",
    "    CodeInfoTuple(841, \"attn\", 3, 7, pos, code_pos), \n",
    "    # CodeInfoTuple(5806, \"attn\", 7, 11, pos, code_pos),\n",
    "    CodeInfoTuple(199, \"attn\", 9, 14, pos, code_pos),\n",
    "    CodeInfoTuple(3545, \"attn\", 18, 2, pos, code_pos),\n",
    "    CodeInfoTuple(1666, \"attn\", 18, 10, pos, code_pos),\n",
    "    CodeInfoTuple(5263, \"attn\", 20, 1, pos, code_pos),\n",
    "]\n",
    "# list_of_arg_tuples = [\n",
    "#     CodeInfoTuple(8643, \"attn\", 3, 7, pos, code_pos), \n",
    "#     CodeInfoTuple(6275, \"attn\", 16, 7, pos, code_pos),\n",
    "#     CodeInfoTuple(7679, \"attn\", 16, 15, pos, code_pos),\n",
    "#     CodeInfoTuple(2323, \"attn\", 17, 13, pos, code_pos),\n",
    "#     CodeInfoTuple(6123, \"attn\", 21, 5, pos, code_pos),\n",
    "# ]\n",
    "import typing\n",
    "text_input = \"The war was fought\"\n",
    "# gen = generate_with_codes(text_input, cb_model, list_of_arg_tuples=[], generate_kwargs={\"max_new_tokens\":50,\"do_sample\":True,\"temperature\":0.7})\n",
    "\n",
    "# gen = generate_with_codes(text_input, cb_model, list_of_arg_tuples=list_of_arg_tuples, generate_kwargs={\"max_new_tokens\":50,\"do_sample\":True,\"temperature\":0.7})\n"
   ]
  },
  {
   "cell_type": "code",
   "execution_count": 42,
   "metadata": {},
   "outputs": [
    {
     "data": {
      "application/vnd.jupyter.widget-view+json": {
       "model_id": "c7deda3114f14b818ad8d2d7b25610d5",
       "version_major": 2,
       "version_minor": 0
      },
      "text/plain": [
       "  0%|          | 0/50 [00:00<?, ?it/s]"
      ]
     },
     "metadata": {},
     "output_type": "display_data"
    },
    {
     "name": "stdout",
     "output_type": "stream",
     "text": [
      "The game was released for the PlayStation Portable. \n",
      " = = Reception = = \n",
      " The game received positive reviews from critics, who praised the storyline, the graphics, and gameplay. While some called the game's graphics average, some criticized the plot,\n"
     ]
    }
   ],
   "source": [
    "def suppress_codes_in_gen(input, code_info_tuples, cb_model, generate_kwargs=None):\n",
    "    \"\"\"Suppresses the codebook features in the generated text.\"\"\"\n",
    "    generate_kwargs = {} if generate_kwargs is None else generate_kwargs\n",
    "    cb_model.reset_hook_kwargs()\n",
    "    for code_info in code_info_tuples:\n",
    "        attn_or_mlp = 0 if code_info.cb_at == \"attn\" else 1\n",
    "        cb_model.all_codebooks[code_info.layer][attn_or_mlp].codebook[code_info.head].set_hook_kwargs(keep_k_codes=False)\n",
    "        # cb_model.all_codebooks[code_info.layer][attn_or_mlp].codebook[code_info.head].hook_kwargs[\"disable_codes\"].append(code_info.code)\n",
    "        cb_model.all_codebooks[code_info.layer][attn_or_mlp].codebook[code_info.head].set_hook_kwargs(disable_topk=8)\n",
    "        \n",
    "\n",
    "    gen = cb_model.generate(input, **generate_kwargs)\n",
    "    print(gen)\n",
    "    return gen\n",
    "\n",
    "text_input = \"The game\"\n",
    "gen = suppress_codes_in_gen(text_input, list_of_arg_tuples, cb_model, generate_kwargs={\"max_new_tokens\":50,\"do_sample\":True,\"temperature\":0.7})"
   ]
  },
  {
   "cell_type": "code",
   "execution_count": 43,
   "metadata": {},
   "outputs": [
    {
     "name": "stderr",
     "output_type": "stream",
     "text": [
      "100%|██████████| 2000/2000 [00:03<00:00, 514.09it/s]\n"
     ]
    },
    {
     "name": "stdout",
     "output_type": "stream",
     "text": [
      "code - -1, mapped to 0.1% tokens\n",
      "3:  de 138 @. ... fferdam,\u001b[31m filled\u001b[0m with cellulose, ...  to a height\u001b[31m of\u001b[0m 1 @.\n",
      "9: . He concluded that ... . Ponie\u001b[31mwo\u001b[0mzik described\n",
      "18:  manual diving plane controls ... s alphan\u001b[31mum\u001b[0meric classification system ...  at Philadelphia on\u001b[31m 26\u001b[0m May 1922. ...  ship was struck\u001b[31m from\u001b[0m the Naval V\n",
      "32:  crises in the English ...  the Black Death\u001b[31m,\u001b[0m there were\u001b[31m efforts\u001b[0m by the authorities\u001b[31m to\u001b[0m\u001b[31m stem\u001b[0m\u001b[31m the\u001b[0m upward pressure on wages\u001b[31m and\u001b[0m prices, with parliament passing the\u001b[31m emergency\u001b[0m Ordinance of\n",
      "35:  on the Japanese television ...  = = =\u001b[31m Context\u001b[0m\u001b[31m =\u001b[0m = = \n",
      " ...  South Africa Company\u001b[31m were\u001b[0m granted a Royal ... , misrepresented\u001b[31m or\u001b[0m simply ignored\u001b[31m.\u001b[0m Lobeng ...  in 1893.\u001b[31m The\u001b[0m resulting conflict ended ...  1894, and\u001b[31m the\u001b[0m subsequent submission of\n",
      "37:  attempt to recover their ...  or have turned\u001b[31m themselves\u001b[0m in. J\n",
      "41: unk> in South ...  = = =\u001b[31m Monitoring\u001b[0m\u001b[31m =\u001b[0m\u001b[31m =\u001b[0m\u001b[31m =\u001b[0m\u001b[31m \n",
      "\u001b[0m\u001b[31m Establ\u001b[0m\u001b[31mished\u001b[0m\u001b[31m on\u001b[0m Kīlauea in\u001b[31m 1912\u001b[0m,\u001b[31m the\u001b[0m Hawaiian\u001b[31m Vol\u001b[0m\u001b[31mcano\u001b[0m Observatory\u001b[31m (\u001b[0m\u001b[31m H\u001b[0mVO\u001b[31m )\u001b[0m\u001b[31m,\u001b[0m\u001b[31m presently\u001b[0m\u001b[31m a\u001b[0m\u001b[31m branch\u001b[0m of\u001b[31m the\u001b[0m\u001b[31m United\u001b[0m\u001b[31m States\u001b[0m\u001b[31m Ge\u001b[0mological\u001b[31m Survey\u001b[0m\u001b[31m,\u001b[0m is\u001b[31m the\u001b[0m\u001b[31m primary\u001b[0m\u001b[31m organization\u001b[0m\u001b[31m associated\u001b[0m\u001b[31m with\u001b[0m\u001b[31m the\u001b[0m\u001b[31m monitoring\u001b[0m\u001b[31m,\u001b[0m observ\u001b[31mance\u001b[0m\u001b[31m,\u001b[0m\u001b[31m and\u001b[0m study of Hawaiian\u001b[31m volcano\u001b[0mes\u001b[31m.\u001b[0m\u001b[31m Thomas\u001b[0m A\u001b[31m.\u001b[0m Jaggar,\u001b[31m the\u001b[0m observatory 's founder\u001b[31m,\u001b[0m\u001b[31m attempted\u001b[0m a summit\u001b[31m expedition\u001b[0m to\u001b[31m the\u001b[0m\u001b[31m volcano\u001b[0m\u001b[31m to\u001b[0m\n",
      "51:  dry air started to ...  produced moderate rainfall\u001b[31m and\u001b[0m gusty winds\n",
      "66: audouin, 1951 ...  regional tensions exposed\u001b[31m by\u001b[0m the Royal Question ... unk> party\u001b[31m after\u001b[0m 1954. In\n",
      "67:  parish church or the ... .e.\u001b[31m non\u001b[0m @-@\n",
      "70:  presence of 0 @ ...  \" fluorine\u001b[31m mart\u001b[0myrs \" after\u001b[31m misf\u001b[0mortunes with hydroflu\u001b[31moric\u001b[0m acid\u001b[31m.\u001b[0m Isolation of ... unk> division\u001b[31m of\u001b[0m General Motors ( ...  Chemicals was\u001b[31m formed\u001b[0m as a joint ...  ) was se\u001b[31mrend\u001b[0mipitously\n",
      "\n",
      "\u001b[32m************************************************************\u001b[0m\n",
      "code - -1, mapped to 0.1% tokens\n",
      "3:  de 138 @. ... fferdam,\u001b[31m filled\u001b[0m with cellulose, ...  to a height\u001b[31m of\u001b[0m 1 @.\n",
      "9: . He concluded that ... . Ponie\u001b[31mwo\u001b[0mzik described\n",
      "18:  manual diving plane controls ... s alphan\u001b[31mum\u001b[0meric classification system ...  at Philadelphia on\u001b[31m 26\u001b[0m May 1922. ...  ship was struck\u001b[31m from\u001b[0m the Naval V\n",
      "32:  crises in the English ...  the Black Death\u001b[31m,\u001b[0m there were\u001b[31m efforts\u001b[0m by the authorities\u001b[31m to\u001b[0m\u001b[31m stem\u001b[0m\u001b[31m the\u001b[0m upward pressure on wages\u001b[31m and\u001b[0m prices, with parliament passing the\u001b[31m emergency\u001b[0m Ordinance of\n",
      "35:  on the Japanese television ...  = = =\u001b[31m Context\u001b[0m\u001b[31m =\u001b[0m = = \n",
      " ...  South Africa Company\u001b[31m were\u001b[0m granted a Royal ... , misrepresented\u001b[31m or\u001b[0m simply ignored\u001b[31m.\u001b[0m Lobeng ...  in 1893.\u001b[31m The\u001b[0m resulting conflict ended ...  1894, and\u001b[31m the\u001b[0m subsequent submission of\n",
      "37:  attempt to recover their ...  or have turned\u001b[31m themselves\u001b[0m in. J\n",
      "41: unk> in South ...  = = =\u001b[31m Monitoring\u001b[0m\u001b[31m =\u001b[0m\u001b[31m =\u001b[0m\u001b[31m =\u001b[0m\u001b[31m \n",
      "\u001b[0m\u001b[31m Establ\u001b[0m\u001b[31mished\u001b[0m\u001b[31m on\u001b[0m Kīlauea in\u001b[31m 1912\u001b[0m,\u001b[31m the\u001b[0m Hawaiian\u001b[31m Vol\u001b[0m\u001b[31mcano\u001b[0m Observatory\u001b[31m (\u001b[0m\u001b[31m H\u001b[0mVO\u001b[31m )\u001b[0m\u001b[31m,\u001b[0m\u001b[31m presently\u001b[0m\u001b[31m a\u001b[0m\u001b[31m branch\u001b[0m of\u001b[31m the\u001b[0m\u001b[31m United\u001b[0m\u001b[31m States\u001b[0m\u001b[31m Ge\u001b[0mological\u001b[31m Survey\u001b[0m\u001b[31m,\u001b[0m is\u001b[31m the\u001b[0m\u001b[31m primary\u001b[0m\u001b[31m organization\u001b[0m\u001b[31m associated\u001b[0m\u001b[31m with\u001b[0m\u001b[31m the\u001b[0m\u001b[31m monitoring\u001b[0m\u001b[31m,\u001b[0m observ\u001b[31mance\u001b[0m\u001b[31m,\u001b[0m\u001b[31m and\u001b[0m study of Hawaiian\u001b[31m volcano\u001b[0mes\u001b[31m.\u001b[0m\u001b[31m Thomas\u001b[0m A\u001b[31m.\u001b[0m Jaggar,\u001b[31m the\u001b[0m observatory 's founder\u001b[31m,\u001b[0m\u001b[31m attempted\u001b[0m a summit\u001b[31m expedition\u001b[0m to\u001b[31m the\u001b[0m\u001b[31m volcano\u001b[0m\u001b[31m to\u001b[0m\n",
      "51:  dry air started to ...  produced moderate rainfall\u001b[31m and\u001b[0m gusty winds\n",
      "66: audouin, 1951 ...  regional tensions exposed\u001b[31m by\u001b[0m the Royal Question ... unk> party\u001b[31m after\u001b[0m 1954. In\n",
      "67:  parish church or the ... .e.\u001b[31m non\u001b[0m @-@\n",
      "70:  presence of 0 @ ...  \" fluorine\u001b[31m mart\u001b[0myrs \" after\u001b[31m misf\u001b[0mortunes with hydroflu\u001b[31moric\u001b[0m acid\u001b[31m.\u001b[0m Isolation of ... unk> division\u001b[31m of\u001b[0m General Motors ( ...  Chemicals was\u001b[31m formed\u001b[0m as a joint ...  ) was se\u001b[31mrend\u001b[0mipitously\n",
      "\n",
      "\u001b[32m************************************************************\u001b[0m\n",
      "code - -1, mapped to 0.1% tokens\n",
      "3:  de 138 @. ... fferdam,\u001b[31m filled\u001b[0m with cellulose, ...  to a height\u001b[31m of\u001b[0m 1 @.\n",
      "9: . He concluded that ... . Ponie\u001b[31mwo\u001b[0mzik described\n",
      "18:  manual diving plane controls ... s alphan\u001b[31mum\u001b[0meric classification system ...  at Philadelphia on\u001b[31m 26\u001b[0m May 1922. ...  ship was struck\u001b[31m from\u001b[0m the Naval V\n",
      "32:  crises in the English ...  the Black Death\u001b[31m,\u001b[0m there were\u001b[31m efforts\u001b[0m by the authorities\u001b[31m to\u001b[0m\u001b[31m stem\u001b[0m\u001b[31m the\u001b[0m upward pressure on wages\u001b[31m and\u001b[0m prices, with parliament passing the\u001b[31m emergency\u001b[0m Ordinance of\n",
      "35:  on the Japanese television ...  = = =\u001b[31m Context\u001b[0m\u001b[31m =\u001b[0m = = \n",
      " ...  South Africa Company\u001b[31m were\u001b[0m granted a Royal ... , misrepresented\u001b[31m or\u001b[0m simply ignored\u001b[31m.\u001b[0m Lobeng ...  in 1893.\u001b[31m The\u001b[0m resulting conflict ended ...  1894, and\u001b[31m the\u001b[0m subsequent submission of\n",
      "37:  attempt to recover their ...  or have turned\u001b[31m themselves\u001b[0m in. J\n",
      "41: unk> in South ...  = = =\u001b[31m Monitoring\u001b[0m\u001b[31m =\u001b[0m\u001b[31m =\u001b[0m\u001b[31m =\u001b[0m\u001b[31m \n",
      "\u001b[0m\u001b[31m Establ\u001b[0m\u001b[31mished\u001b[0m\u001b[31m on\u001b[0m Kīlauea in\u001b[31m 1912\u001b[0m,\u001b[31m the\u001b[0m Hawaiian\u001b[31m Vol\u001b[0m\u001b[31mcano\u001b[0m Observatory\u001b[31m (\u001b[0m\u001b[31m H\u001b[0mVO\u001b[31m )\u001b[0m\u001b[31m,\u001b[0m\u001b[31m presently\u001b[0m\u001b[31m a\u001b[0m\u001b[31m branch\u001b[0m of\u001b[31m the\u001b[0m\u001b[31m United\u001b[0m\u001b[31m States\u001b[0m\u001b[31m Ge\u001b[0mological\u001b[31m Survey\u001b[0m\u001b[31m,\u001b[0m is\u001b[31m the\u001b[0m\u001b[31m primary\u001b[0m\u001b[31m organization\u001b[0m\u001b[31m associated\u001b[0m\u001b[31m with\u001b[0m\u001b[31m the\u001b[0m\u001b[31m monitoring\u001b[0m\u001b[31m,\u001b[0m observ\u001b[31mance\u001b[0m\u001b[31m,\u001b[0m\u001b[31m and\u001b[0m study of Hawaiian\u001b[31m volcano\u001b[0mes\u001b[31m.\u001b[0m\u001b[31m Thomas\u001b[0m A\u001b[31m.\u001b[0m Jaggar,\u001b[31m the\u001b[0m observatory 's founder\u001b[31m,\u001b[0m\u001b[31m attempted\u001b[0m a summit\u001b[31m expedition\u001b[0m to\u001b[31m the\u001b[0m\u001b[31m volcano\u001b[0m\u001b[31m to\u001b[0m\n",
      "51:  dry air started to ...  produced moderate rainfall\u001b[31m and\u001b[0m gusty winds\n",
      "66: audouin, 1951 ...  regional tensions exposed\u001b[31m by\u001b[0m the Royal Question ... unk> party\u001b[31m after\u001b[0m 1954. In\n",
      "67:  parish church or the ... .e.\u001b[31m non\u001b[0m @-@\n",
      "70:  presence of 0 @ ...  \" fluorine\u001b[31m mart\u001b[0myrs \" after\u001b[31m misf\u001b[0mortunes with hydroflu\u001b[31moric\u001b[0m acid\u001b[31m.\u001b[0m Isolation of ... unk> division\u001b[31m of\u001b[0m General Motors ( ...  Chemicals was\u001b[31m formed\u001b[0m as a joint ...  ) was se\u001b[31mrend\u001b[0mipitously\n",
      "\n",
      "\u001b[32m************************************************************\u001b[0m\n",
      "code - -1, mapped to 0.1% tokens\n",
      "3:  de 138 @. ... fferdam,\u001b[31m filled\u001b[0m with cellulose, ...  to a height\u001b[31m of\u001b[0m 1 @.\n",
      "9: . He concluded that ... . Ponie\u001b[31mwo\u001b[0mzik described\n",
      "18:  manual diving plane controls ... s alphan\u001b[31mum\u001b[0meric classification system ...  at Philadelphia on\u001b[31m 26\u001b[0m May 1922. ...  ship was struck\u001b[31m from\u001b[0m the Naval V\n",
      "32:  crises in the English ...  the Black Death\u001b[31m,\u001b[0m there were\u001b[31m efforts\u001b[0m by the authorities\u001b[31m to\u001b[0m\u001b[31m stem\u001b[0m\u001b[31m the\u001b[0m upward pressure on wages\u001b[31m and\u001b[0m prices, with parliament passing the\u001b[31m emergency\u001b[0m Ordinance of\n",
      "35:  on the Japanese television ...  = = =\u001b[31m Context\u001b[0m\u001b[31m =\u001b[0m = = \n",
      " ...  South Africa Company\u001b[31m were\u001b[0m granted a Royal ... , misrepresented\u001b[31m or\u001b[0m simply ignored\u001b[31m.\u001b[0m Lobeng ...  in 1893.\u001b[31m The\u001b[0m resulting conflict ended ...  1894, and\u001b[31m the\u001b[0m subsequent submission of\n",
      "37:  attempt to recover their ...  or have turned\u001b[31m themselves\u001b[0m in. J\n",
      "41: unk> in South ...  = = =\u001b[31m Monitoring\u001b[0m\u001b[31m =\u001b[0m\u001b[31m =\u001b[0m\u001b[31m =\u001b[0m\u001b[31m \n",
      "\u001b[0m\u001b[31m Establ\u001b[0m\u001b[31mished\u001b[0m\u001b[31m on\u001b[0m Kīlauea in\u001b[31m 1912\u001b[0m,\u001b[31m the\u001b[0m Hawaiian\u001b[31m Vol\u001b[0m\u001b[31mcano\u001b[0m Observatory\u001b[31m (\u001b[0m\u001b[31m H\u001b[0mVO\u001b[31m )\u001b[0m\u001b[31m,\u001b[0m\u001b[31m presently\u001b[0m\u001b[31m a\u001b[0m\u001b[31m branch\u001b[0m of\u001b[31m the\u001b[0m\u001b[31m United\u001b[0m\u001b[31m States\u001b[0m\u001b[31m Ge\u001b[0mological\u001b[31m Survey\u001b[0m\u001b[31m,\u001b[0m is\u001b[31m the\u001b[0m\u001b[31m primary\u001b[0m\u001b[31m organization\u001b[0m\u001b[31m associated\u001b[0m\u001b[31m with\u001b[0m\u001b[31m the\u001b[0m\u001b[31m monitoring\u001b[0m\u001b[31m,\u001b[0m observ\u001b[31mance\u001b[0m\u001b[31m,\u001b[0m\u001b[31m and\u001b[0m study of Hawaiian\u001b[31m volcano\u001b[0mes\u001b[31m.\u001b[0m\u001b[31m Thomas\u001b[0m A\u001b[31m.\u001b[0m Jaggar,\u001b[31m the\u001b[0m observatory 's founder\u001b[31m,\u001b[0m\u001b[31m attempted\u001b[0m a summit\u001b[31m expedition\u001b[0m to\u001b[31m the\u001b[0m\u001b[31m volcano\u001b[0m\u001b[31m to\u001b[0m\n",
      "51:  dry air started to ...  produced moderate rainfall\u001b[31m and\u001b[0m gusty winds\n",
      "66: audouin, 1951 ...  regional tensions exposed\u001b[31m by\u001b[0m the Royal Question ... unk> party\u001b[31m after\u001b[0m 1954. In\n",
      "67:  parish church or the ... .e.\u001b[31m non\u001b[0m @-@\n",
      "70:  presence of 0 @ ...  \" fluorine\u001b[31m mart\u001b[0myrs \" after\u001b[31m misf\u001b[0mortunes with hydroflu\u001b[31moric\u001b[0m acid\u001b[31m.\u001b[0m Isolation of ... unk> division\u001b[31m of\u001b[0m General Motors ( ...  Chemicals was\u001b[31m formed\u001b[0m as a joint ...  ) was se\u001b[31mrend\u001b[0mipitously\n",
      "\n",
      "\u001b[32m************************************************************\u001b[0m\n",
      "code - -1, mapped to 0.1% tokens\n",
      "3:  de 138 @. ... fferdam,\u001b[31m filled\u001b[0m with cellulose, ...  to a height\u001b[31m of\u001b[0m 1 @.\n",
      "9: . He concluded that ... . Ponie\u001b[31mwo\u001b[0mzik described\n",
      "18:  manual diving plane controls ... s alphan\u001b[31mum\u001b[0meric classification system ...  at Philadelphia on\u001b[31m 26\u001b[0m May 1922. ...  ship was struck\u001b[31m from\u001b[0m the Naval V\n",
      "32:  crises in the English ...  the Black Death\u001b[31m,\u001b[0m there were\u001b[31m efforts\u001b[0m by the authorities\u001b[31m to\u001b[0m\u001b[31m stem\u001b[0m\u001b[31m the\u001b[0m upward pressure on wages\u001b[31m and\u001b[0m prices, with parliament passing the\u001b[31m emergency\u001b[0m Ordinance of\n",
      "35:  on the Japanese television ...  = = =\u001b[31m Context\u001b[0m\u001b[31m =\u001b[0m = = \n",
      " ...  South Africa Company\u001b[31m were\u001b[0m granted a Royal ... , misrepresented\u001b[31m or\u001b[0m simply ignored\u001b[31m.\u001b[0m Lobeng ...  in 1893.\u001b[31m The\u001b[0m resulting conflict ended ...  1894, and\u001b[31m the\u001b[0m subsequent submission of\n",
      "37:  attempt to recover their ...  or have turned\u001b[31m themselves\u001b[0m in. J\n",
      "41: unk> in South ...  = = =\u001b[31m Monitoring\u001b[0m\u001b[31m =\u001b[0m\u001b[31m =\u001b[0m\u001b[31m =\u001b[0m\u001b[31m \n",
      "\u001b[0m\u001b[31m Establ\u001b[0m\u001b[31mished\u001b[0m\u001b[31m on\u001b[0m Kīlauea in\u001b[31m 1912\u001b[0m,\u001b[31m the\u001b[0m Hawaiian\u001b[31m Vol\u001b[0m\u001b[31mcano\u001b[0m Observatory\u001b[31m (\u001b[0m\u001b[31m H\u001b[0mVO\u001b[31m )\u001b[0m\u001b[31m,\u001b[0m\u001b[31m presently\u001b[0m\u001b[31m a\u001b[0m\u001b[31m branch\u001b[0m of\u001b[31m the\u001b[0m\u001b[31m United\u001b[0m\u001b[31m States\u001b[0m\u001b[31m Ge\u001b[0mological\u001b[31m Survey\u001b[0m\u001b[31m,\u001b[0m is\u001b[31m the\u001b[0m\u001b[31m primary\u001b[0m\u001b[31m organization\u001b[0m\u001b[31m associated\u001b[0m\u001b[31m with\u001b[0m\u001b[31m the\u001b[0m\u001b[31m monitoring\u001b[0m\u001b[31m,\u001b[0m observ\u001b[31mance\u001b[0m\u001b[31m,\u001b[0m\u001b[31m and\u001b[0m study of Hawaiian\u001b[31m volcano\u001b[0mes\u001b[31m.\u001b[0m\u001b[31m Thomas\u001b[0m A\u001b[31m.\u001b[0m Jaggar,\u001b[31m the\u001b[0m observatory 's founder\u001b[31m,\u001b[0m\u001b[31m attempted\u001b[0m a summit\u001b[31m expedition\u001b[0m to\u001b[31m the\u001b[0m\u001b[31m volcano\u001b[0m\u001b[31m to\u001b[0m\n",
      "51:  dry air started to ...  produced moderate rainfall\u001b[31m and\u001b[0m gusty winds\n",
      "66: audouin, 1951 ...  regional tensions exposed\u001b[31m by\u001b[0m the Royal Question ... unk> party\u001b[31m after\u001b[0m 1954. In\n",
      "67:  parish church or the ... .e.\u001b[31m non\u001b[0m @-@\n",
      "70:  presence of 0 @ ...  \" fluorine\u001b[31m mart\u001b[0myrs \" after\u001b[31m misf\u001b[0mortunes with hydroflu\u001b[31moric\u001b[0m acid\u001b[31m.\u001b[0m Isolation of ... unk> division\u001b[31m of\u001b[0m General Motors ( ...  Chemicals was\u001b[31m formed\u001b[0m as a joint ...  ) was se\u001b[31mrend\u001b[0mipitously\n",
      "\n",
      "\u001b[32m************************************************************\u001b[0m\n",
      "code - -1, mapped to 0.1% tokens\n",
      "3:  de 138 @. ... fferdam,\u001b[31m filled\u001b[0m with cellulose, ...  to a height\u001b[31m of\u001b[0m 1 @.\n",
      "9: . He concluded that ... . Ponie\u001b[31mwo\u001b[0mzik described\n",
      "18:  manual diving plane controls ... s alphan\u001b[31mum\u001b[0meric classification system ...  at Philadelphia on\u001b[31m 26\u001b[0m May 1922. ...  ship was struck\u001b[31m from\u001b[0m the Naval V\n",
      "32:  crises in the English ...  the Black Death\u001b[31m,\u001b[0m there were\u001b[31m efforts\u001b[0m by the authorities\u001b[31m to\u001b[0m\u001b[31m stem\u001b[0m\u001b[31m the\u001b[0m upward pressure on wages\u001b[31m and\u001b[0m prices, with parliament passing the\u001b[31m emergency\u001b[0m Ordinance of\n",
      "35:  on the Japanese television ...  = = =\u001b[31m Context\u001b[0m\u001b[31m =\u001b[0m = = \n",
      " ...  South Africa Company\u001b[31m were\u001b[0m granted a Royal ... , misrepresented\u001b[31m or\u001b[0m simply ignored\u001b[31m.\u001b[0m Lobeng ...  in 1893.\u001b[31m The\u001b[0m resulting conflict ended ...  1894, and\u001b[31m the\u001b[0m subsequent submission of\n",
      "37:  attempt to recover their ...  or have turned\u001b[31m themselves\u001b[0m in. J\n",
      "41: unk> in South ...  = = =\u001b[31m Monitoring\u001b[0m\u001b[31m =\u001b[0m\u001b[31m =\u001b[0m\u001b[31m =\u001b[0m\u001b[31m \n",
      "\u001b[0m\u001b[31m Establ\u001b[0m\u001b[31mished\u001b[0m\u001b[31m on\u001b[0m Kīlauea in\u001b[31m 1912\u001b[0m,\u001b[31m the\u001b[0m Hawaiian\u001b[31m Vol\u001b[0m\u001b[31mcano\u001b[0m Observatory\u001b[31m (\u001b[0m\u001b[31m H\u001b[0mVO\u001b[31m )\u001b[0m\u001b[31m,\u001b[0m\u001b[31m presently\u001b[0m\u001b[31m a\u001b[0m\u001b[31m branch\u001b[0m of\u001b[31m the\u001b[0m\u001b[31m United\u001b[0m\u001b[31m States\u001b[0m\u001b[31m Ge\u001b[0mological\u001b[31m Survey\u001b[0m\u001b[31m,\u001b[0m is\u001b[31m the\u001b[0m\u001b[31m primary\u001b[0m\u001b[31m organization\u001b[0m\u001b[31m associated\u001b[0m\u001b[31m with\u001b[0m\u001b[31m the\u001b[0m\u001b[31m monitoring\u001b[0m\u001b[31m,\u001b[0m observ\u001b[31mance\u001b[0m\u001b[31m,\u001b[0m\u001b[31m and\u001b[0m study of Hawaiian\u001b[31m volcano\u001b[0mes\u001b[31m.\u001b[0m\u001b[31m Thomas\u001b[0m A\u001b[31m.\u001b[0m Jaggar,\u001b[31m the\u001b[0m observatory 's founder\u001b[31m,\u001b[0m\u001b[31m attempted\u001b[0m a summit\u001b[31m expedition\u001b[0m to\u001b[31m the\u001b[0m\u001b[31m volcano\u001b[0m\u001b[31m to\u001b[0m\n",
      "51:  dry air started to ...  produced moderate rainfall\u001b[31m and\u001b[0m gusty winds\n",
      "66: audouin, 1951 ...  regional tensions exposed\u001b[31m by\u001b[0m the Royal Question ... unk> party\u001b[31m after\u001b[0m 1954. In\n",
      "67:  parish church or the ... .e.\u001b[31m non\u001b[0m @-@\n",
      "70:  presence of 0 @ ...  \" fluorine\u001b[31m mart\u001b[0myrs \" after\u001b[31m misf\u001b[0mortunes with hydroflu\u001b[31moric\u001b[0m acid\u001b[31m.\u001b[0m Isolation of ... unk> division\u001b[31m of\u001b[0m General Motors ( ...  Chemicals was\u001b[31m formed\u001b[0m as a joint ...  ) was se\u001b[31mrend\u001b[0mipitously\n",
      "\n",
      "\u001b[32m************************************************************\u001b[0m\n",
      "code - -1, mapped to 0.1% tokens\n",
      "3:  de 138 @. ... fferdam,\u001b[31m filled\u001b[0m with cellulose, ...  to a height\u001b[31m of\u001b[0m 1 @.\n",
      "9: . He concluded that ... . Ponie\u001b[31mwo\u001b[0mzik described\n",
      "18:  manual diving plane controls ... s alphan\u001b[31mum\u001b[0meric classification system ...  at Philadelphia on\u001b[31m 26\u001b[0m May 1922. ...  ship was struck\u001b[31m from\u001b[0m the Naval V\n",
      "32:  crises in the English ...  the Black Death\u001b[31m,\u001b[0m there were\u001b[31m efforts\u001b[0m by the authorities\u001b[31m to\u001b[0m\u001b[31m stem\u001b[0m\u001b[31m the\u001b[0m upward pressure on wages\u001b[31m and\u001b[0m prices, with parliament passing the\u001b[31m emergency\u001b[0m Ordinance of\n",
      "35:  on the Japanese television ...  = = =\u001b[31m Context\u001b[0m\u001b[31m =\u001b[0m = = \n",
      " ...  South Africa Company\u001b[31m were\u001b[0m granted a Royal ... , misrepresented\u001b[31m or\u001b[0m simply ignored\u001b[31m.\u001b[0m Lobeng ...  in 1893.\u001b[31m The\u001b[0m resulting conflict ended ...  1894, and\u001b[31m the\u001b[0m subsequent submission of\n",
      "37:  attempt to recover their ...  or have turned\u001b[31m themselves\u001b[0m in. J\n",
      "41: unk> in South ...  = = =\u001b[31m Monitoring\u001b[0m\u001b[31m =\u001b[0m\u001b[31m =\u001b[0m\u001b[31m =\u001b[0m\u001b[31m \n",
      "\u001b[0m\u001b[31m Establ\u001b[0m\u001b[31mished\u001b[0m\u001b[31m on\u001b[0m Kīlauea in\u001b[31m 1912\u001b[0m,\u001b[31m the\u001b[0m Hawaiian\u001b[31m Vol\u001b[0m\u001b[31mcano\u001b[0m Observatory\u001b[31m (\u001b[0m\u001b[31m H\u001b[0mVO\u001b[31m )\u001b[0m\u001b[31m,\u001b[0m\u001b[31m presently\u001b[0m\u001b[31m a\u001b[0m\u001b[31m branch\u001b[0m of\u001b[31m the\u001b[0m\u001b[31m United\u001b[0m\u001b[31m States\u001b[0m\u001b[31m Ge\u001b[0mological\u001b[31m Survey\u001b[0m\u001b[31m,\u001b[0m is\u001b[31m the\u001b[0m\u001b[31m primary\u001b[0m\u001b[31m organization\u001b[0m\u001b[31m associated\u001b[0m\u001b[31m with\u001b[0m\u001b[31m the\u001b[0m\u001b[31m monitoring\u001b[0m\u001b[31m,\u001b[0m observ\u001b[31mance\u001b[0m\u001b[31m,\u001b[0m\u001b[31m and\u001b[0m study of Hawaiian\u001b[31m volcano\u001b[0mes\u001b[31m.\u001b[0m\u001b[31m Thomas\u001b[0m A\u001b[31m.\u001b[0m Jaggar,\u001b[31m the\u001b[0m observatory 's founder\u001b[31m,\u001b[0m\u001b[31m attempted\u001b[0m a summit\u001b[31m expedition\u001b[0m to\u001b[31m the\u001b[0m\u001b[31m volcano\u001b[0m\u001b[31m to\u001b[0m\n",
      "51:  dry air started to ...  produced moderate rainfall\u001b[31m and\u001b[0m gusty winds\n",
      "66: audouin, 1951 ...  regional tensions exposed\u001b[31m by\u001b[0m the Royal Question ... unk> party\u001b[31m after\u001b[0m 1954. In\n",
      "67:  parish church or the ... .e.\u001b[31m non\u001b[0m @-@\n",
      "70:  presence of 0 @ ...  \" fluorine\u001b[31m mart\u001b[0myrs \" after\u001b[31m misf\u001b[0mortunes with hydroflu\u001b[31moric\u001b[0m acid\u001b[31m.\u001b[0m Isolation of ... unk> division\u001b[31m of\u001b[0m General Motors ( ...  Chemicals was\u001b[31m formed\u001b[0m as a joint ...  ) was se\u001b[31mrend\u001b[0mipitously\n",
      "\n",
      "\u001b[32m************************************************************\u001b[0m\n",
      "code - -1, mapped to 0.1% tokens\n",
      "3:  de 138 @. ... fferdam,\u001b[31m filled\u001b[0m with cellulose, ...  to a height\u001b[31m of\u001b[0m 1 @.\n",
      "9: . He concluded that ... . Ponie\u001b[31mwo\u001b[0mzik described\n",
      "18:  manual diving plane controls ... s alphan\u001b[31mum\u001b[0meric classification system ...  at Philadelphia on\u001b[31m 26\u001b[0m May 1922. ...  ship was struck\u001b[31m from\u001b[0m the Naval V\n",
      "32:  crises in the English ...  the Black Death\u001b[31m,\u001b[0m there were\u001b[31m efforts\u001b[0m by the authorities\u001b[31m to\u001b[0m\u001b[31m stem\u001b[0m\u001b[31m the\u001b[0m upward pressure on wages\u001b[31m and\u001b[0m prices, with parliament passing the\u001b[31m emergency\u001b[0m Ordinance of\n",
      "35:  on the Japanese television ...  = = =\u001b[31m Context\u001b[0m\u001b[31m =\u001b[0m = = \n",
      " ...  South Africa Company\u001b[31m were\u001b[0m granted a Royal ... , misrepresented\u001b[31m or\u001b[0m simply ignored\u001b[31m.\u001b[0m Lobeng ...  in 1893.\u001b[31m The\u001b[0m resulting conflict ended ...  1894, and\u001b[31m the\u001b[0m subsequent submission of\n",
      "37:  attempt to recover their ...  or have turned\u001b[31m themselves\u001b[0m in. J\n",
      "41: unk> in South ...  = = =\u001b[31m Monitoring\u001b[0m\u001b[31m =\u001b[0m\u001b[31m =\u001b[0m\u001b[31m =\u001b[0m\u001b[31m \n",
      "\u001b[0m\u001b[31m Establ\u001b[0m\u001b[31mished\u001b[0m\u001b[31m on\u001b[0m Kīlauea in\u001b[31m 1912\u001b[0m,\u001b[31m the\u001b[0m Hawaiian\u001b[31m Vol\u001b[0m\u001b[31mcano\u001b[0m Observatory\u001b[31m (\u001b[0m\u001b[31m H\u001b[0mVO\u001b[31m )\u001b[0m\u001b[31m,\u001b[0m\u001b[31m presently\u001b[0m\u001b[31m a\u001b[0m\u001b[31m branch\u001b[0m of\u001b[31m the\u001b[0m\u001b[31m United\u001b[0m\u001b[31m States\u001b[0m\u001b[31m Ge\u001b[0mological\u001b[31m Survey\u001b[0m\u001b[31m,\u001b[0m is\u001b[31m the\u001b[0m\u001b[31m primary\u001b[0m\u001b[31m organization\u001b[0m\u001b[31m associated\u001b[0m\u001b[31m with\u001b[0m\u001b[31m the\u001b[0m\u001b[31m monitoring\u001b[0m\u001b[31m,\u001b[0m observ\u001b[31mance\u001b[0m\u001b[31m,\u001b[0m\u001b[31m and\u001b[0m study of Hawaiian\u001b[31m volcano\u001b[0mes\u001b[31m.\u001b[0m\u001b[31m Thomas\u001b[0m A\u001b[31m.\u001b[0m Jaggar,\u001b[31m the\u001b[0m observatory 's founder\u001b[31m,\u001b[0m\u001b[31m attempted\u001b[0m a summit\u001b[31m expedition\u001b[0m to\u001b[31m the\u001b[0m\u001b[31m volcano\u001b[0m\u001b[31m to\u001b[0m\n",
      "51:  dry air started to ...  produced moderate rainfall\u001b[31m and\u001b[0m gusty winds\n",
      "66: audouin, 1951 ...  regional tensions exposed\u001b[31m by\u001b[0m the Royal Question ... unk> party\u001b[31m after\u001b[0m 1954. In\n",
      "67:  parish church or the ... .e.\u001b[31m non\u001b[0m @-@\n",
      "70:  presence of 0 @ ...  \" fluorine\u001b[31m mart\u001b[0myrs \" after\u001b[31m misf\u001b[0mortunes with hydroflu\u001b[31moric\u001b[0m acid\u001b[31m.\u001b[0m Isolation of ... unk> division\u001b[31m of\u001b[0m General Motors ( ...  Chemicals was\u001b[31m formed\u001b[0m as a joint ...  ) was se\u001b[31mrend\u001b[0mipitously\n",
      "\n",
      "\u001b[32m************************************************************\u001b[0m\n"
     ]
    },
    {
     "data": {
      "text/html": [
       "<pre style=\"white-space:pre;overflow-x:auto;line-height:normal;font-family:Menlo,'DejaVu Sans Mono',consolas,'Courier New',monospace\"><span style=\"color: #800000; text-decoration-color: #800000\">╭─────────────────────────────── </span><span style=\"color: #800000; text-decoration-color: #800000; font-weight: bold\">Traceback </span><span style=\"color: #bf7f7f; text-decoration-color: #bf7f7f; font-weight: bold\">(most recent call last)</span><span style=\"color: #800000; text-decoration-color: #800000\"> ────────────────────────────────╮</span>\n",
       "<span style=\"color: #800000; text-decoration-color: #800000\">│</span> in <span style=\"color: #00ff00; text-decoration-color: #00ff00\">&lt;module&gt;</span>:<span style=\"color: #0000ff; text-decoration-color: #0000ff\">5</span>                                                                                    <span style=\"color: #800000; text-decoration-color: #800000\">│</span>\n",
       "<span style=\"color: #800000; text-decoration-color: #800000\">│</span>                                                                                                  <span style=\"color: #800000; text-decoration-color: #800000\">│</span>\n",
       "<span style=\"color: #800000; text-decoration-color: #800000\">│</span>   <span style=\"color: #7f7f7f; text-decoration-color: #7f7f7f\">2 </span>layer, head = <span style=\"color: #0000ff; text-decoration-color: #0000ff\">9</span>, <span style=\"color: #0000ff; text-decoration-color: #0000ff\">14</span>                                                                          <span style=\"color: #800000; text-decoration-color: #800000\">│</span>\n",
       "<span style=\"color: #800000; text-decoration-color: #800000\">│</span>   <span style=\"color: #7f7f7f; text-decoration-color: #7f7f7f\">3 </span>ft_tkns[(layer, head)] = features_to_tokens(<span style=\"color: #808000; text-decoration-color: #808000\">f\"layer{</span>layer<span style=\"color: #808000; text-decoration-color: #808000\">}_{</span>cb_at<span style=\"color: #808000; text-decoration-color: #808000\">}_ccb{</span>head<span style=\"color: #808000; text-decoration-color: #808000\">}\"</span>, cb_acts,      <span style=\"color: #800000; text-decoration-color: #800000\">│</span>\n",
       "<span style=\"color: #800000; text-decoration-color: #800000\">│</span>   <span style=\"color: #7f7f7f; text-decoration-color: #7f7f7f\">4 </span>indices = cache[get_cb_layer_name(<span style=\"color: #808000; text-decoration-color: #808000\">\"attn\"</span>, layer, head)][<span style=\"color: #0000ff; text-decoration-color: #0000ff\">0</span>, -<span style=\"color: #0000ff; text-decoration-color: #0000ff\">1</span>]                               <span style=\"color: #800000; text-decoration-color: #800000\">│</span>\n",
       "<span style=\"color: #800000; text-decoration-color: #800000\">│</span> <span style=\"color: #800000; text-decoration-color: #800000\">❱ </span>5 freq, acts = print_ft_tkns(ft_tkns[(layer, head)],n=<span style=\"color: #0000ff; text-decoration-color: #0000ff\">3</span>,indices=indices,tokenizer=tokenize     <span style=\"color: #800000; text-decoration-color: #800000\">│</span>\n",
       "<span style=\"color: #800000; text-decoration-color: #800000\">│</span>   <span style=\"color: #7f7f7f; text-decoration-color: #7f7f7f\">6 </span><span style=\"color: #00ffff; text-decoration-color: #00ffff\">print</span>(acts)                                                                                  <span style=\"color: #800000; text-decoration-color: #800000\">│</span>\n",
       "<span style=\"color: #800000; text-decoration-color: #800000\">│</span>   <span style=\"color: #7f7f7f; text-decoration-color: #7f7f7f\">7 </span>                                                                                             <span style=\"color: #800000; text-decoration-color: #800000\">│</span>\n",
       "<span style=\"color: #800000; text-decoration-color: #800000\">╰──────────────────────────────────────────────────────────────────────────────────────────────────╯</span>\n",
       "<span style=\"color: #ff0000; text-decoration-color: #ff0000; font-weight: bold\">TypeError: </span>cannot unpack non-iterable NoneType object\n",
       "</pre>\n"
      ],
      "text/plain": [
       "\u001b[31m╭─\u001b[0m\u001b[31m──────────────────────────────\u001b[0m\u001b[31m \u001b[0m\u001b[1;31mTraceback \u001b[0m\u001b[1;2;31m(most recent call last)\u001b[0m\u001b[31m \u001b[0m\u001b[31m───────────────────────────────\u001b[0m\u001b[31m─╮\u001b[0m\n",
       "\u001b[31m│\u001b[0m in \u001b[92m<module>\u001b[0m:\u001b[94m5\u001b[0m                                                                                    \u001b[31m│\u001b[0m\n",
       "\u001b[31m│\u001b[0m                                                                                                  \u001b[31m│\u001b[0m\n",
       "\u001b[31m│\u001b[0m   \u001b[2m2 \u001b[0mlayer, head = \u001b[94m9\u001b[0m, \u001b[94m14\u001b[0m                                                                          \u001b[31m│\u001b[0m\n",
       "\u001b[31m│\u001b[0m   \u001b[2m3 \u001b[0mft_tkns[(layer, head)] = features_to_tokens(\u001b[33mf\u001b[0m\u001b[33m\"\u001b[0m\u001b[33mlayer\u001b[0m\u001b[33m{\u001b[0mlayer\u001b[33m}\u001b[0m\u001b[33m_\u001b[0m\u001b[33m{\u001b[0mcb_at\u001b[33m}\u001b[0m\u001b[33m_ccb\u001b[0m\u001b[33m{\u001b[0mhead\u001b[33m}\u001b[0m\u001b[33m\"\u001b[0m, cb_acts,      \u001b[31m│\u001b[0m\n",
       "\u001b[31m│\u001b[0m   \u001b[2m4 \u001b[0mindices = cache[get_cb_layer_name(\u001b[33m\"\u001b[0m\u001b[33mattn\u001b[0m\u001b[33m\"\u001b[0m, layer, head)][\u001b[94m0\u001b[0m, -\u001b[94m1\u001b[0m]                               \u001b[31m│\u001b[0m\n",
       "\u001b[31m│\u001b[0m \u001b[31m❱ \u001b[0m5 freq, acts = print_ft_tkns(ft_tkns[(layer, head)],n=\u001b[94m3\u001b[0m,indices=indices,tokenizer=tokenize     \u001b[31m│\u001b[0m\n",
       "\u001b[31m│\u001b[0m   \u001b[2m6 \u001b[0m\u001b[96mprint\u001b[0m(acts)                                                                                  \u001b[31m│\u001b[0m\n",
       "\u001b[31m│\u001b[0m   \u001b[2m7 \u001b[0m                                                                                             \u001b[31m│\u001b[0m\n",
       "\u001b[31m╰──────────────────────────────────────────────────────────────────────────────────────────────────╯\u001b[0m\n",
       "\u001b[1;91mTypeError: \u001b[0mcannot unpack non-iterable NoneType object\n"
      ]
     },
     "metadata": {},
     "output_type": "display_data"
    }
   ],
   "source": [
    "logits, cache = cb_model.run_with_cache(\"The game\")\n",
    "layer, head = 9, 14\n",
    "ft_tkns[(layer, head)] = features_to_tokens(f\"layer{layer}_{cb_at}_ccb{head}\", cb_acts, num_codes=num_codes)\n",
    "indices = cache[get_cb_layer_name(\"attn\", layer, head)][0, -1]\n",
    "freq, acts = print_ft_tkns(ft_tkns[(layer, head)],n=3,indices=indices,tokenizer=tokenizer,tokens=tokens,max_examples=10)\n",
    "print(acts)"
   ]
  },
  {
   "cell_type": "code",
   "execution_count": null,
   "metadata": {},
   "outputs": [],
   "source": [
    "total_tokens = len(tokens) * len(tokens[0])\n",
    "print(total_tokens)"
   ]
  },
  {
   "cell_type": "code",
   "execution_count": null,
   "metadata": {},
   "outputs": [],
   "source": [
    "torch.unique(torch.randint(0, 10, (10, 10)), return_counts=True)"
   ]
  },
  {
   "cell_type": "code",
   "execution_count": null,
   "metadata": {},
   "outputs": [],
   "source": [
    "print_ft_tkns(ft_tkns,n=5,start=0,stop=10,tokenizer=tokenizer,tokens=tokens,max_examples=100)"
   ]
  },
  {
   "cell_type": "code",
   "execution_count": null,
   "metadata": {},
   "outputs": [],
   "source": [
    "seq = orig_cb_model.generate(do_sample=True, max_length=100, temperature=0.7)\n",
    "tokenizer.decode(seq[0].tolist(), skip_special_tokens=True)"
   ]
  },
  {
   "cell_type": "code",
   "execution_count": null,
   "metadata": {},
   "outputs": [],
   "source": [
    "cb_model.generate(\"The football club Manchester\", max_new_tokens=5, do_sample=False)"
   ]
  },
  {
   "cell_type": "code",
   "execution_count": null,
   "metadata": {},
   "outputs": [],
   "source": [
    "cb_model.model.cfg.device = device"
   ]
  },
  {
   "cell_type": "code",
   "execution_count": null,
   "metadata": {},
   "outputs": [],
   "source": [
    "example_prompt = \"Washington is the capital of The United\"\n",
    "example_answer = \" States\"\n",
    "\n",
    "utils.test_prompt(\n",
    "    example_prompt,\n",
    "    example_answer,\n",
    "    cb_model,\n",
    "    prepend_bos=False,\n",
    "    prepend_space_to_answer=False,\n",
    "    top_k=10,\n",
    ")"
   ]
  },
  {
   "cell_type": "code",
   "execution_count": null,
   "metadata": {},
   "outputs": [],
   "source": [
    "example_prompt = \"club Manchester\"\n",
    "example_answer = \" United\"\n",
    "\n",
    "utils.test_prompt(\n",
    "    example_prompt,\n",
    "    example_answer,\n",
    "    cb_model,\n",
    "    prepend_bos=False,\n",
    "    prepend_space_to_answer=False,\n",
    "    top_k=10,\n",
    ")"
   ]
  },
  {
   "cell_type": "code",
   "execution_count": null,
   "metadata": {},
   "outputs": [],
   "source": [
    "input_a = \"The football club Real\"\n",
    "input_b = \"The football club Manchester\"\n",
    "\n",
    "input_a = cb_model.to_tokens(input_a, prepend_bos=False).to(\"cuda\")\n",
    "input_b = cb_model.to_tokens(input_b, prepend_bos=False).to(\"cuda\")\n",
    "\n",
    "logits_a, cache_a = cb_model.run_with_cache(input_a)\n",
    "logits_b, cache_b = cb_model.run_with_cache(input_b)\n",
    "\n",
    "print(f\"JSD(a, b) = {JSD(logits_a, logits_b)}\")"
   ]
  },
  {
   "cell_type": "code",
   "execution_count": null,
   "metadata": {},
   "outputs": [],
   "source": [
    "input_a = \"Washington is the capital of The United\"\n",
    "input_b = \"London is the capital of The United\"\n",
    "\n",
    "input_a = cb_model.to_tokens(input_a, prepend_bos=False).to(\"cuda\")\n",
    "input_b = cb_model.to_tokens(input_b, prepend_bos=False).to(\"cuda\")\n",
    "\n",
    "logits_a, cache_a = cb_model.run_with_cache(input_a)\n",
    "logits_b, cache_b = cb_model.run_with_cache(input_b)\n",
    "\n",
    "print(f\"JSD(a, b) = {JSD(logits_a, logits_b)}\")"
   ]
  },
  {
   "cell_type": "code",
   "execution_count": null,
   "metadata": {},
   "outputs": [],
   "source": [
    "cache_a[get_cb_layer_name(\"attn\", 17, 13)][0, -1]"
   ]
  },
  {
   "cell_type": "code",
   "execution_count": null,
   "metadata": {},
   "outputs": [],
   "source": [
    "[0,17,19,20]"
   ]
  },
  {
   "cell_type": "code",
   "execution_count": null,
   "metadata": {},
   "outputs": [],
   "source": [
    "# for layer_idx in range(cb_model.cfg.n_layers):\n",
    "#     n_layers = 1\n",
    "for layer_idx in range(1):\n",
    "    # n_layers = cb_model.cfg.n_layers\n",
    "    n_layers = 4\n",
    "    cb_at = ( [\"attn\"] * cb_model.cfg.n_heads ) * n_layers\n",
    "    head = (list(range(cb_model.cfg.n_heads))) * n_layers\n",
    "    # layer = [layer_idx] * len(cb_at)\n",
    "    # layer = range_over_repeat(n_layers, repeat=cb_model.cfg.n_heads)\n",
    "    layer = range_over_repeat([0,17,19,20], repeat=cb_model.cfg.n_heads)\n",
    "    code = [cache_b[get_cb_layer_name(cb_at[i], layer[i], head[i])][0, -1, :] for i in range(len(cb_at))]\n",
    "    # ind = [0,1,2,3,4,5]\n",
    "    ind = range(len(cb_at))\n",
    "    mod_logits, mod_cache = run_with_codes(\n",
    "        input_a,\n",
    "        cb_model,\n",
    "        [code[i] for i in ind],\n",
    "        [cb_at[i] for i in ind],\n",
    "        [layer[i] for i in ind],\n",
    "        [head[i] for i in ind],\n",
    "        pos=[-1],\n",
    "    )\n",
    "    print(\"Layer:\", layer_idx)\n",
    "    print(logits_to_pred(mod_logits, tokenizer, k=5))\n",
    "    print(f\"JSD(a <- b, b) = {JSD(mod_logits, logits_b, pos=-1)}\")\n"
   ]
  },
  {
   "cell_type": "code",
   "execution_count": null,
   "metadata": {},
   "outputs": [],
   "source": [
    "js_divs = torch.zeros((cb_model.cfg.n_layers, cb_model.cfg.n_heads))\n",
    "for layer_idx in tqdm(range(cb_model.cfg.n_layers)):\n",
    "    for head_idx in range(cb_model.cfg.n_heads):\n",
    "        # n_layers = cb_model.cfg.n_layers\n",
    "        cb_at = [\"attn\"]\n",
    "        head = [head_idx]\n",
    "        layer = [layer_idx] * len(cb_at)\n",
    "        # layer = range_over_repeat(n_layers, repeat=cb_model.cfg.n_heads)\n",
    "        # layer = range_over_repeat([0,17,19,20], repeat=cb_model.cfg.n_heads)\n",
    "        code = [cache_b[get_cb_layer_name(cb_at[i], layer[i], head[i])][0, -1, :] for i in range(len(cb_at))]\n",
    "        # ind = [0,1,2,3,4,5]\n",
    "        ind = range(len(cb_at))\n",
    "        mod_logits, mod_cache = run_with_codes(\n",
    "            input_a,\n",
    "            cb_model,\n",
    "            [code[i] for i in ind],\n",
    "            [cb_at[i] for i in ind],\n",
    "            [layer[i] for i in ind],\n",
    "            [head[i] for i in ind],\n",
    "            pos=[-1],\n",
    "        )\n",
    "        # print(\"Layer, Head:\", layer_idx, head_idx)\n",
    "        # print(logits_to_pred(mod_logits, tokenizer, k=5))\n",
    "        # print(f\"JSD(a <- b, b) = {JSD(mod_logits, logits_b, pos=-1)}\")\n",
    "        js_divs[layer_idx, head_idx] = JSD(mod_logits, logits_b, pos=-1)\n",
    "\n",
    "# make the color map range start from 0\n",
    "imshow(js_divs, xaxis=\"head\", yaxis=\"layer\")\n",
    "\n"
   ]
  },
  {
   "cell_type": "code",
   "execution_count": null,
   "metadata": {},
   "outputs": [],
   "source": [
    "imshow(js_divs, xaxis=\"head\", yaxis=\"layer\")"
   ]
  },
  {
   "cell_type": "code",
   "execution_count": null,
   "metadata": {},
   "outputs": [],
   "source": [
    "js_divs.sort(axis=1)"
   ]
  },
  {
   "cell_type": "code",
   "execution_count": null,
   "metadata": {},
   "outputs": [],
   "source": [
    "def imshow(tensor, renderer=None, xaxis=\"\", yaxis=\"\", **kwargs):\n",
    "    \"\"\"Show an image.\"\"\"\n",
    "    px.imshow(\n",
    "        tl_utils.to_numpy(tensor),\n",
    "        color_continuous_scale=\"RdBu\",\n",
    "        labels={\"x\": xaxis, \"y\": yaxis},\n",
    "        **kwargs,\n",
    "    ).show(renderer)\n",
    "\n"
   ]
  },
  {
   "cell_type": "code",
   "execution_count": null,
   "metadata": {},
   "outputs": [],
   "source": [
    "[(17, 13)]"
   ]
  },
  {
   "cell_type": "code",
   "execution_count": null,
   "metadata": {},
   "outputs": [],
   "source": [
    "def range_over_repeat(end_or_list, repeat=1):\n",
    "    \n",
    "    if isinstance(end_or_list, int):\n",
    "        end_or_list = range(end_or_list)\n",
    "    l = []\n",
    "    for i in end_or_list:\n",
    "        l += [i] * repeat\n",
    "    return l"
   ]
  }
 ],
 "metadata": {
  "kernelspec": {
   "display_name": "Python 3 (ipykernel)",
   "language": "python",
   "name": "python3"
  },
  "orig_nbformat": 4
 },
 "nbformat": 4,
 "nbformat_minor": 2
}
